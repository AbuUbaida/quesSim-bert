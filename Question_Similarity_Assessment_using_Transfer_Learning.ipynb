{
  "cells": [
    {
      "cell_type": "code",
      "execution_count": null,
      "id": "76176b5a",
      "metadata": {
        "id": "76176b5a"
      },
      "outputs": [],
      "source": [
        "import transformers\n",
        "import torch\n",
        "from transformers import AdamW, AutoTokenizer, AutoModelForSequenceClassification, Trainer\n",
        "from transformers import TrainingArguments\n",
        "from datasets import ClassLabel, Value\n",
        "from transformers import DataCollatorWithPadding\n",
        "import numpy as np\n",
        "from datasets import load_metric\n",
        "from datasets import load_dataset\n",
        "from tqdm import tqdm"
      ]
    },
    {
      "cell_type": "code",
      "execution_count": null,
      "id": "2497f41e",
      "metadata": {
        "id": "2497f41e",
        "outputId": "68600f8f-8e81-4968-f0fa-dc3ed3b48de8"
      },
      "outputs": [
        {
          "name": "stderr",
          "output_type": "stream",
          "text": [
            "Some weights of the model checkpoint at bert-base-uncased were not used when initializing BertForSequenceClassification: ['cls.predictions.transform.dense.weight', 'cls.predictions.decoder.weight', 'cls.predictions.transform.LayerNorm.bias', 'cls.predictions.transform.dense.bias', 'cls.predictions.transform.LayerNorm.weight', 'cls.seq_relationship.weight', 'cls.predictions.bias', 'cls.seq_relationship.bias']\n",
            "- This IS expected if you are initializing BertForSequenceClassification from the checkpoint of a model trained on another task or with another architecture (e.g. initializing a BertForSequenceClassification model from a BertForPreTraining model).\n",
            "- This IS NOT expected if you are initializing BertForSequenceClassification from the checkpoint of a model that you expect to be exactly identical (initializing a BertForSequenceClassification model from a BertForSequenceClassification model).\n",
            "Some weights of BertForSequenceClassification were not initialized from the model checkpoint at bert-base-uncased and are newly initialized: ['classifier.weight', 'classifier.bias']\n",
            "You should probably TRAIN this model on a down-stream task to be able to use it for predictions and inference.\n"
          ]
        }
      ],
      "source": [
        "checkpoint = \"bert-base-uncased\"\n",
        "tokenizer = AutoTokenizer.from_pretrained(checkpoint)\n",
        "model = AutoModelForSequenceClassification.from_pretrained(checkpoint, num_labels=2)"
      ]
    },
    {
      "cell_type": "code",
      "execution_count": null,
      "id": "5438ed1d",
      "metadata": {
        "id": "5438ed1d",
        "outputId": "bbbd0064-9a74-47c0-d152-8b27b7ecdf22"
      },
      "outputs": [
        {
          "data": {
            "text/plain": [
              "device(type='cuda')"
            ]
          },
          "execution_count": 3,
          "metadata": {},
          "output_type": "execute_result"
        }
      ],
      "source": [
        "device = torch.device(\"cuda\") if torch.cuda.is_available() else torch.device(\"cpu\")\n",
        "model.to(device)\n",
        "device"
      ]
    },
    {
      "cell_type": "code",
      "execution_count": null,
      "id": "8d3fff70",
      "metadata": {
        "id": "8d3fff70",
        "outputId": "6e1fac94-7148-43ce-e4d5-dddde1d0da2e",
        "colab": {
          "referenced_widgets": [
            "e846f8599aef4963a8d8a24b2e633084"
          ]
        }
      },
      "outputs": [
        {
          "name": "stderr",
          "output_type": "stream",
          "text": [
            "Using custom data configuration default\n",
            "Reusing dataset quora (/home/tafseer/.cache/huggingface/datasets/quora/default/0.0.0/36ba4cd42107f051a158016f1bea6ae3f4685c5df843529108a54e42d86c1e04)\n"
          ]
        },
        {
          "data": {
            "application/vnd.jupyter.widget-view+json": {
              "model_id": "e846f8599aef4963a8d8a24b2e633084",
              "version_major": 2,
              "version_minor": 0
            },
            "text/plain": [
              "  0%|          | 0/1 [00:00<?, ?it/s]"
            ]
          },
          "metadata": {},
          "output_type": "display_data"
        },
        {
          "data": {
            "text/plain": [
              "DatasetDict({\n",
              "    train: Dataset({\n",
              "        features: ['questions', 'is_duplicate'],\n",
              "        num_rows: 404290\n",
              "    })\n",
              "})"
            ]
          },
          "execution_count": 4,
          "metadata": {},
          "output_type": "execute_result"
        }
      ],
      "source": [
        "raw_datasets = load_dataset(\"quora\")\n",
        "raw_datasets"
      ]
    },
    {
      "cell_type": "code",
      "execution_count": null,
      "id": "ff117d4c",
      "metadata": {
        "id": "ff117d4c"
      },
      "outputs": [],
      "source": [
        "def tokenize_function(example):\n",
        "    questions = example['questions']\n",
        "    t1 = []\n",
        "    t2 = []\n",
        "    for t in questions:\n",
        "        t1.append(t['text'][0])\n",
        "        t2.append(t['text'][1])\n",
        "    return tokenizer(t1, t2, truncation=True)"
      ]
    },
    {
      "cell_type": "code",
      "execution_count": null,
      "id": "66cb4670",
      "metadata": {
        "id": "66cb4670",
        "outputId": "ee930d65-2c3b-4a94-dac1-da04199f9b67",
        "colab": {
          "referenced_widgets": [
            "1945abe423e74a29a8331b9880ee6bec"
          ]
        }
      },
      "outputs": [
        {
          "name": "stderr",
          "output_type": "stream",
          "text": [
            "Parameter 'function'=<function tokenize_function at 0x7ff8406c7310> of the transform datasets.arrow_dataset.Dataset._map_single couldn't be hashed properly, a random hash was used instead. Make sure your transforms and parameters are serializable with pickle or dill for the dataset fingerprinting and caching to work. If you reuse this transform, the caching mechanism will consider it to be different from the previous calls and recompute everything. This warning is only showed once. Subsequent hashing failures won't be showed.\n"
          ]
        },
        {
          "data": {
            "application/vnd.jupyter.widget-view+json": {
              "model_id": "1945abe423e74a29a8331b9880ee6bec",
              "version_major": 2,
              "version_minor": 0
            },
            "text/plain": [
              "  0%|          | 0/405 [00:00<?, ?ba/s]"
            ]
          },
          "metadata": {},
          "output_type": "display_data"
        },
        {
          "data": {
            "text/plain": [
              "Dataset({\n",
              "    features: ['questions', 'is_duplicate', 'input_ids', 'token_type_ids', 'attention_mask'],\n",
              "    num_rows: 404290\n",
              "})"
            ]
          },
          "execution_count": 6,
          "metadata": {},
          "output_type": "execute_result"
        }
      ],
      "source": [
        "tokenized_datasets = raw_datasets['train'].map(tokenize_function, batched=True)\n",
        "tokenized_datasets"
      ]
    },
    {
      "cell_type": "code",
      "execution_count": null,
      "id": "89ba9bff",
      "metadata": {
        "id": "89ba9bff",
        "outputId": "8ff19fff-6665-4cbb-ecaa-3134e48c250f",
        "colab": {
          "referenced_widgets": [
            "446dbb50317a4b978ab6fefff39ccf64"
          ]
        }
      },
      "outputs": [
        {
          "data": {
            "application/vnd.jupyter.widget-view+json": {
              "model_id": "446dbb50317a4b978ab6fefff39ccf64",
              "version_major": 2,
              "version_minor": 0
            },
            "text/plain": [
              "Casting the dataset:   0%|          | 0/41 [00:00<?, ?ba/s]"
            ]
          },
          "metadata": {},
          "output_type": "display_data"
        },
        {
          "data": {
            "text/plain": [
              "DatasetDict({\n",
              "    train: Dataset({\n",
              "        features: ['labels', 'input_ids', 'token_type_ids', 'attention_mask'],\n",
              "        num_rows: 323432\n",
              "    })\n",
              "    test: Dataset({\n",
              "        features: ['labels', 'input_ids', 'token_type_ids', 'attention_mask'],\n",
              "        num_rows: 80858\n",
              "    })\n",
              "})"
            ]
          },
          "execution_count": 7,
          "metadata": {},
          "output_type": "execute_result"
        }
      ],
      "source": [
        "new_features = tokenized_datasets.features.copy()\n",
        "new_features[\"is_duplicate\"] = ClassLabel(num_classes=2, names=['not_duplicate', 'duplicate'], names_file=None, id=None)\n",
        "tokenized_datasets = tokenized_datasets.cast(new_features)\n",
        "tokenized_datasets = tokenized_datasets.remove_columns('questions').rename_column('is_duplicate', 'labels')\n",
        "tokenized_datasets = tokenized_datasets.train_test_split(test_size=0.2)\n",
        "tokenized_datasets"
      ]
    },
    {
      "cell_type": "code",
      "source": [
        "data_collator = DataCollatorWithPadding(tokenizer=tokenizer)"
      ],
      "metadata": {
        "id": "l0J7ZnN_d10_"
      },
      "id": "l0J7ZnN_d10_",
      "execution_count": null,
      "outputs": []
    },
    {
      "cell_type": "code",
      "source": [
        "samples = tokenized_datasets['train'][:8]\n",
        "samples = {k: v for k, v in samples.items()}\n",
        "batch = data_collator(samples)\n",
        "batch = batch.to(device)\n",
        "{k: v.shape for k, v in batch.items()}"
      ],
      "metadata": {
        "id": "A41PD_vHd3Mx"
      },
      "id": "A41PD_vHd3Mx",
      "execution_count": null,
      "outputs": []
    },
    {
      "cell_type": "code",
      "source": [
        "def compute_metrics(eval_preds):\n",
        "    metric = load_metric(\"glue\", \"mrpc\")\n",
        "    logits, labels = eval_preds\n",
        "    predictions = np.argmax(logits, axis=-1)\n",
        "    return metric.compute(predictions=predictions, references=labels)"
      ],
      "metadata": {
        "id": "k6YhQhGAd4fl"
      },
      "id": "k6YhQhGAd4fl",
      "execution_count": null,
      "outputs": []
    },
    {
      "cell_type": "code",
      "source": [
        "training_args = TrainingArguments(\"./quora-saved-model\", evaluation_strategy=\"epoch\", save_strategy='epoch', \n",
        "                                  report_to='none', num_train_epochs=3, \n",
        "                                  per_device_train_batch_size=32,\n",
        "                                  per_device_eval_batch_size=32)\n",
        "trainer = Trainer(\n",
        "    model,\n",
        "    training_args,\n",
        "    train_dataset=tokenized_datasets['train'],\n",
        "    eval_dataset=tokenized_datasets['test'],\n",
        "    data_collator=data_collator,\n",
        "    tokenizer=tokenizer,\n",
        "    compute_metrics=compute_metrics,\n",
        ")"
      ],
      "metadata": {
        "id": "47CUqdPYd7iH"
      },
      "id": "47CUqdPYd7iH",
      "execution_count": null,
      "outputs": []
    },
    {
      "cell_type": "code",
      "execution_count": null,
      "id": "de5008bc",
      "metadata": {
        "id": "de5008bc",
        "outputId": "bf3bc8c4-812a-43d7-8a4e-e14afd49ba2a"
      },
      "outputs": [
        {
          "name": "stderr",
          "output_type": "stream",
          "text": [
            "/home/tafseer/anaconda3/envs/Pytorch/lib/python3.9/site-packages/transformers/optimization.py:306: FutureWarning: This implementation of AdamW is deprecated and will be removed in a future version. Use the PyTorch implementation torch.optim.AdamW instead, or set `no_deprecation_warning=True` to disable this warning\n",
            "  warnings.warn(\n",
            "***** Running training *****\n",
            "  Num examples = 323432\n",
            "  Num Epochs = 3\n",
            "  Instantaneous batch size per device = 32\n",
            "  Total train batch size (w. parallel, distributed & accumulation) = 32\n",
            "  Gradient Accumulation steps = 1\n",
            "  Total optimization steps = 30324\n"
          ]
        },
        {
          "data": {
            "text/html": [
              "\n",
              "    <div>\n",
              "      \n",
              "      <progress value='30324' max='30324' style='width:300px; height:20px; vertical-align: middle;'></progress>\n",
              "      [30324/30324 42:43, Epoch 3/3]\n",
              "    </div>\n",
              "    <table border=\"1\" class=\"dataframe\">\n",
              "  <thead>\n",
              " <tr style=\"text-align: left;\">\n",
              "      <th>Epoch</th>\n",
              "      <th>Training Loss</th>\n",
              "      <th>Validation Loss</th>\n",
              "      <th>Accuracy</th>\n",
              "      <th>F1</th>\n",
              "    </tr>\n",
              "  </thead>\n",
              "  <tbody>\n",
              "    <tr>\n",
              "      <td>1</td>\n",
              "      <td>0.265600</td>\n",
              "      <td>0.248419</td>\n",
              "      <td>0.896770</td>\n",
              "      <td>0.862567</td>\n",
              "    </tr>\n",
              "    <tr>\n",
              "      <td>2</td>\n",
              "      <td>0.177400</td>\n",
              "      <td>0.245728</td>\n",
              "      <td>0.909817</td>\n",
              "      <td>0.877351</td>\n",
              "    </tr>\n",
              "    <tr>\n",
              "      <td>3</td>\n",
              "      <td>0.103000</td>\n",
              "      <td>0.300438</td>\n",
              "      <td>0.912043</td>\n",
              "      <td>0.880495</td>\n",
              "    </tr>\n",
              "  </tbody>\n",
              "</table><p>"
            ],
            "text/plain": [
              "<IPython.core.display.HTML object>"
            ]
          },
          "metadata": {},
          "output_type": "display_data"
        },
        {
          "name": "stderr",
          "output_type": "stream",
          "text": [
            "***** Running Evaluation *****\n",
            "  Num examples = 80858\n",
            "  Batch size = 32\n",
            "Saving model checkpoint to ./quora-saved-model/checkpoint-10108\n",
            "Configuration saved in ./quora-saved-model/checkpoint-10108/config.json\n",
            "Model weights saved in ./quora-saved-model/checkpoint-10108/pytorch_model.bin\n",
            "tokenizer config file saved in ./quora-saved-model/checkpoint-10108/tokenizer_config.json\n",
            "Special tokens file saved in ./quora-saved-model/checkpoint-10108/special_tokens_map.json\n",
            "***** Running Evaluation *****\n",
            "  Num examples = 80858\n",
            "  Batch size = 32\n",
            "Saving model checkpoint to ./quora-saved-model/checkpoint-20216\n",
            "Configuration saved in ./quora-saved-model/checkpoint-20216/config.json\n",
            "Model weights saved in ./quora-saved-model/checkpoint-20216/pytorch_model.bin\n",
            "tokenizer config file saved in ./quora-saved-model/checkpoint-20216/tokenizer_config.json\n",
            "Special tokens file saved in ./quora-saved-model/checkpoint-20216/special_tokens_map.json\n",
            "***** Running Evaluation *****\n",
            "  Num examples = 80858\n",
            "  Batch size = 32\n",
            "Saving model checkpoint to ./quora-saved-model/checkpoint-30324\n",
            "Configuration saved in ./quora-saved-model/checkpoint-30324/config.json\n",
            "Model weights saved in ./quora-saved-model/checkpoint-30324/pytorch_model.bin\n",
            "tokenizer config file saved in ./quora-saved-model/checkpoint-30324/tokenizer_config.json\n",
            "Special tokens file saved in ./quora-saved-model/checkpoint-30324/special_tokens_map.json\n",
            "\n",
            "\n",
            "Training completed. Do not forget to share your model on huggingface.co/models =)\n",
            "\n",
            "\n"
          ]
        },
        {
          "data": {
            "text/plain": [
              "TrainOutput(global_step=30324, training_loss=0.19583375603963038, metrics={'train_runtime': 2564.0055, 'train_samples_per_second': 378.43, 'train_steps_per_second': 11.827, 'total_flos': 3.400379857264704e+16, 'train_loss': 0.19583375603963038, 'epoch': 3.0})"
            ]
          },
          "execution_count": 8,
          "metadata": {},
          "output_type": "execute_result"
        }
      ],
      "source": [
        "trainer.train()"
      ]
    },
    {
      "cell_type": "code",
      "execution_count": null,
      "id": "547be47a",
      "metadata": {
        "id": "547be47a"
      },
      "outputs": [],
      "source": []
    }
  ],
  "metadata": {
    "kernelspec": {
      "display_name": "PytorchGPU",
      "language": "python",
      "name": "pytorchgpu"
    },
    "language_info": {
      "codemirror_mode": {
        "name": "ipython",
        "version": 3
      },
      "file_extension": ".py",
      "mimetype": "text/x-python",
      "name": "python",
      "nbconvert_exporter": "python",
      "pygments_lexer": "ipython3",
      "version": "3.9.12"
    },
    "colab": {
      "provenance": []
    }
  },
  "nbformat": 4,
  "nbformat_minor": 5
}